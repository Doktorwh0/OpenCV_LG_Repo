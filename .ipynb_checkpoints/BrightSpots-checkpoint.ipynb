{
 "cells": [
  {
   "cell_type": "code",
   "execution_count": 2,
   "id": "7b8bce47",
   "metadata": {},
   "outputs": [
    {
     "name": "stderr",
     "output_type": "stream",
     "text": [
      "usage: ipykernel_launcher.py [-h] -i IMAGE\n",
      "ipykernel_launcher.py: error: the following arguments are required: -i/--image\n"
     ]
    },
    {
     "ename": "SystemExit",
     "evalue": "2",
     "output_type": "error",
     "traceback": [
      "An exception has occurred, use %tb to see the full traceback.\n",
      "\u001b[1;31mSystemExit\u001b[0m\u001b[1;31m:\u001b[0m 2\n"
     ]
    },
    {
     "name": "stderr",
     "output_type": "stream",
     "text": [
      "C:\\Users\\User\\anaconda3\\lib\\site-packages\\IPython\\core\\interactiveshell.py:3513: UserWarning: To exit: use 'exit', 'quit', or Ctrl-D.\n",
      "  warn(\"To exit: use 'exit', 'quit', or Ctrl-D.\", stacklevel=1)\n"
     ]
    }
   ],
   "source": [
    "# # import the necessary packages\n",
    "# from imutils import contours\n",
    "# from skimage import measure\n",
    "# import numpy as np\n",
    "# import argparse\n",
    "# import imutils\n",
    "# import cv2\n",
    "# # construct the argument parse and parse the arguments\n",
    "# ap = argparse.ArgumentParser()\n",
    "# ap.add_argument(\"-i\", \"--image\", required=True,\n",
    "# \thelp=\"path to the image file\")\n",
    "# args = vars(ap.parse_args())"
   ]
  },
  {
   "cell_type": "code",
   "execution_count": 11,
   "id": "514fb277",
   "metadata": {},
   "outputs": [],
   "source": [
    "import cv2\n",
    "import imageio\n",
    "import numpy as np"
   ]
  },
  {
   "cell_type": "code",
   "execution_count": 14,
   "id": "abad14a5",
   "metadata": {},
   "outputs": [],
   "source": [
    "def binarizeImg(self, image):\n",
    "    self.image = image\n",
    "    # image = cv2.imread(\"./TestVid/testss2.png\")\n",
    "\n",
    "    #  constants\n",
    "    BINARY_THRESHOLD = 200\n",
    "    CONNECTIVITY = 4\n",
    "    DRAW_CIRCLE_RADIUS = 4\n",
    "\n",
    "    #  convert to gray\n",
    "    gray_image = cv2.cvtColor(image, cv2.COLOR_BGR2GRAY)\n",
    "    cv2.imshow(\"gray\", gray_image)\n",
    "\n",
    "    # #  extract edges\n",
    "    # binary_image = cv2.Laplacian(gray_image, cv2.CV_8UC1)\n",
    "    # cv2.imshow(\"binary\", binary_image)\n",
    "\n",
    "    # #  fill in the holes between edges with dilation\n",
    "    # dilated_image = cv2.dilate(binary_image, np.ones((15, 15)))\n",
    "    # cv2.imshow(\"dilated\", dilated_image)\n",
    "\n",
    "    #  threshold the black/ non-black areas\n",
    "    _, thresh = cv2.threshold(gray_image, BINARY_THRESHOLD, 255, cv2.THRESH_BINARY)\n",
    "    cv2.imshow(\"result\", thresh)\n",
    "\n",
    "    #  find connected components\n",
    "    components = cv2.connectedComponentsWithStats(thresh, CONNECTIVITY, cv2.CV_32S)\n",
    "\n",
    "    #  draw circles around center of components\n",
    "    #see connectedComponentsWithStats function for attributes of components variable\n",
    "    centers = components[3]\n",
    "    for center in centers:\n",
    "        cv2.circle(thresh, (int(center[0]), int(center[1])), DRAW_CIRCLE_RADIUS, (255), thickness=-1)\n",
    "\n",
    "    cv2.imwrite(\"res.png\", thresh)\n",
    "    cv2.imshow(\"result\", thresh)\n",
    "    cv2.waitKey(0)\n",
    "    return thresh\n"
   ]
  },
  {
   "cell_type": "code",
   "execution_count": null,
   "id": "3fee7532",
   "metadata": {},
   "outputs": [],
   "source": [
    "\n",
    "cap = cv2.VideoCapture(\"./TestVid/tv2.mp4\")\n",
    "fps = cap.get(cv2.CAP_PROP_FPS)\n",
    "print(fps)\n",
    "vidLen = 45\n",
    "\n",
    "timer = int(fps * vidLen)\n",
    "t = timer\n",
    "frames = []\n",
    "\n",
    "totalSkippedFrames = 0\n",
    "mtFrames = 0\n",
    "# loop to repeatedly scan webcam and process video\n",
    "while (t > 0):\n",
    "    success,image = cap.read()\n",
    "    #cv2.imshow(\"frame\", image)\n",
    "    image = cv2.flip(image, 1)\n",
    "    #  constants\n",
    "    BINARY_THRESHOLD = 200\n",
    "    CONNECTIVITY = 4\n",
    "    DRAW_CIRCLE_RADIUS = 4\n",
    "\n",
    "    #  convert to gray\n",
    "    gray_image = cv2.cvtColor(image, cv2.COLOR_BGR2GRAY)\n",
    "    cv2.imshow(\"gray\", gray_image)\n",
    "    #  threshold the black/ non-black areas\n",
    "    _, thresh = cv2.threshold(gray_image, BINARY_THRESHOLD, 255, cv2.THRESH_BINARY)\n",
    "    frames.append(thresh)\n",
    "    \n",
    "    cv2.waitKey(1)\n",
    "    t = t - 1\n",
    "    if (t % 25 == 0):\n",
    "        print((t-timer)/timer, '%')\n",
    "\n",
    "\n",
    "imageio.mimsave(f'./binarize_giffy.gif',\n",
    "               frames,\n",
    "               int(fps))\n",
    "cap.release()\n",
    "cv2.destroyAllWindows()\n",
    "print('Scheme complete >:)')\n"
   ]
  },
  {
   "cell_type": "code",
   "execution_count": null,
   "id": "fc86e357",
   "metadata": {},
   "outputs": [],
   "source": []
  }
 ],
 "metadata": {
  "kernelspec": {
   "display_name": "Python 3 (ipykernel)",
   "language": "python",
   "name": "python3"
  },
  "language_info": {
   "codemirror_mode": {
    "name": "ipython",
    "version": 3
   },
   "file_extension": ".py",
   "mimetype": "text/x-python",
   "name": "python",
   "nbconvert_exporter": "python",
   "pygments_lexer": "ipython3",
   "version": "3.9.7"
  }
 },
 "nbformat": 4,
 "nbformat_minor": 5
}
