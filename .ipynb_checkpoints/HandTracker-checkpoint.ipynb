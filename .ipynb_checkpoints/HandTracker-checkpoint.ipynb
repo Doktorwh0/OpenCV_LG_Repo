{
 "cells": [
  {
   "cell_type": "markdown",
   "id": "84178141",
   "metadata": {},
   "source": [
    "Author: Kyle Herbruger\n",
    "Date: 10/17/2023\n",
    "\n",
    "Most of the hand tracking code comes from: https://www.section.io/engineering-education/creating-a-hand-tracking-module/\n",
    "\n",
    "This program tracks the users on camera hands, and saves the data to two .csv files.\n",
    "Will write hand location as 0 in the case of no hand being detected to keep time scale accurate."
   ]
  },
  {
   "cell_type": "code",
   "execution_count": 16,
   "id": "c0d090de",
   "metadata": {},
   "outputs": [],
   "source": [
    "import cv2\n",
    "import mediapipe as mp\n",
    "import numpy as np\n",
    "\n",
    "\n",
    "# Used to convert protobuf message to a dictionary. \n",
    "from google.protobuf.json_format import MessageToDict "
   ]
  },
  {
   "cell_type": "code",
   "execution_count": 28,
   "id": "b9df5c0c",
   "metadata": {},
   "outputs": [],
   "source": [
    "class handTracker():\n",
    "    def __init__(self, mode=False, maxHands=2, detectionCon=0.5,modelComplexity=1,trackCon=0.5):\n",
    "        self.mode = mode\n",
    "        self.maxHands = maxHands\n",
    "        self.detectionCon = detectionCon\n",
    "        self.modelComplex = modelComplexity\n",
    "        self.trackCon = trackCon\n",
    "        self.mpHands = mp.solutions.hands\n",
    "        self.hands = self.mpHands.Hands(self.mode, self.maxHands,self.modelComplex,\n",
    "                                        self.detectionCon, self.trackCon)\n",
    "        self.mpDraw = mp.solutions.drawing_utils    \n",
    "        \n",
    "    def handsFinder(self,image,draw=True):\n",
    "        imageRGB = cv2.cvtColor(image,cv2.COLOR_BGR2RGB)\n",
    "        self.results = self.hands.process(imageRGB)\n",
    "\n",
    "        if self.results.multi_hand_landmarks:\n",
    "            for handLms in self.results.multi_hand_landmarks:\n",
    "\n",
    "                if draw:\n",
    "                    self.mpDraw.draw_landmarks(image, handLms, self.mpHands.HAND_CONNECTIONS)\n",
    "        return image\n",
    "    \n",
    "    def positionFinder(self,image, handNo=0, draw=True):\n",
    "        lmlist = []\n",
    "        if self.results.multi_hand_landmarks:\n",
    "            # Draws out pink circle on pinky tip\n",
    "            Hand = self.results.multi_hand_landmarks[handNo]\n",
    "            for id, lm in enumerate(Hand.landmark):\n",
    "                h,w,c = image.shape\n",
    "                cx,cy = int(lm.x*w), int(lm.y*h)\n",
    "                lmlist.append([id,cx,cy])\n",
    "            if draw:\n",
    "                cv2.circle(image,(cx,cy), 15 , (255,0,255), cv2.FILLED)\n",
    "\n",
    "        return lmlist"
   ]
  },
  {
   "cell_type": "code",
   "execution_count": 33,
   "id": "f888611b",
   "metadata": {},
   "outputs": [],
   "source": [
    "def main():\n",
    "    cap = cv2.VideoCapture(0)\n",
    "    tracker = handTracker()\n",
    "    \n",
    "    timer = 0\n",
    "    lmListLeft_CSV = []\n",
    "    lmListRight_CSV = []\n",
    "    \n",
    "    # loop to repeatedly scan webcam and process video\n",
    "    while (timer < 50):\n",
    "        success,image = cap.read()\n",
    "        image = cv2.flip(image, 1) \n",
    "        image = tracker.handsFinder(image)\n",
    "        # Original imp: lmListLeft = tracker.positionFinder(image,0)\n",
    "\n",
    "        # Check if hand detected at all\n",
    "        if tracker.results.multi_handedness:\n",
    "            if len(tracker.results.multi_handedness) == 2: # Check if both hands detected\n",
    "                lmListLeft_CSV.append(tracker.positionFinder(image,0))\n",
    "                lmListRight_CSV.append(= tracker.positionFinder(image,1))\n",
    "            else: # Determine which hand is detected\n",
    "                for i in results.multi_handedness:\n",
    "                    label = MessageToDict(i) \n",
    "                    ['classification'][0]['label'] \n",
    "                    if label == 'Left':  # Left hand \n",
    "                        lmListLeft_CSV.append(tracker.positionFinder(image,0))\n",
    "                    if label == 'Right': # Right hand\n",
    "                        lmListRight_CSV.append(tracker.positionFinder(image,0))\n",
    "        # End of handedness detection    \n",
    "        cv2.imshow(\"Video\",image)\n",
    "        cv2.waitKey(1)\n",
    "        timer = timer + 1\n",
    "    \n",
    "    npArrLeft = np.zeros((len(lmListLeft_CSV), 21, 3))\n",
    "    npArrRight = np.zeros((len(lmListRight_CSV), 21, 3))\n",
    "    for ii in range(len(lmListLeft_CSV)):\n",
    "        for ib in range(len(lmListLeft_CSV[ii])):\n",
    "            npArrLeft[ii, ib] = np.array(lmListLeft_CSV[ii][ib])\n",
    "\n",
    "        for ib in range(len(lmListRight_CSV[ii])):\n",
    "            npArrRight[ii, ib] = np.array(lmListRight_CSV[ii][ib])\n",
    "            \n",
    "    npArrLeft = npArrLeft.astype(int)\n",
    "    npArrRight = npArrRight.astype(int)\n",
    "    \n",
    "    np.savetxt('handIDNum.csv', npArrLeft[:,:,0], delimiter=',')\n",
    "    np.savetxt('LeftX.csv', npArrLeft[:,:,1], delimiter=',', fmt='%d')\n",
    "    np.savetxt('LeftY.csv', npArrLeft[:,:,2], delimiter=',', fmt='%d')\n",
    "    \n",
    "    np.savetxt('RightX.csv', npArrRight[:,:,1], delimiter=',', fmt='%d')\n",
    "    np.savetxt('RightY.csv', npArrRight[:,:,2], delimiter=',', fmt='%d')"
   ]
  },
  {
   "cell_type": "code",
   "execution_count": 34,
   "id": "24d8f1a2",
   "metadata": {
    "scrolled": false
   },
   "outputs": [
    {
     "ename": "AttributeError",
     "evalue": "label",
     "output_type": "error",
     "traceback": [
      "\u001b[1;31m---------------------------------------------------------------------------\u001b[0m",
      "\u001b[1;31mAttributeError\u001b[0m                            Traceback (most recent call last)",
      "Cell \u001b[1;32mIn[34], line 2\u001b[0m\n\u001b[0;32m      1\u001b[0m \u001b[38;5;28;01mif\u001b[39;00m \u001b[38;5;18m__name__\u001b[39m \u001b[38;5;241m==\u001b[39m \u001b[38;5;124m\"\u001b[39m\u001b[38;5;124m__main__\u001b[39m\u001b[38;5;124m\"\u001b[39m:\n\u001b[1;32m----> 2\u001b[0m     \u001b[43mmain\u001b[49m\u001b[43m(\u001b[49m\u001b[43m)\u001b[49m\n\u001b[0;32m      3\u001b[0m     \u001b[38;5;28mprint\u001b[39m(\u001b[38;5;124m\"\u001b[39m\u001b[38;5;124mDone XD\u001b[39m\u001b[38;5;124m\"\u001b[39m)\n",
      "Cell \u001b[1;32mIn[33], line 22\u001b[0m, in \u001b[0;36mmain\u001b[1;34m()\u001b[0m\n\u001b[0;32m     20\u001b[0m         lmListLeft_CSV \u001b[38;5;241m=\u001b[39m tracker\u001b[38;5;241m.\u001b[39mpositionFinder(image,\u001b[38;5;241m0\u001b[39m)\n\u001b[0;32m     21\u001b[0m         lmListRight_CSV \u001b[38;5;241m=\u001b[39m tracker\u001b[38;5;241m.\u001b[39mpositionFinder(image,\u001b[38;5;241m1\u001b[39m)\n\u001b[1;32m---> 22\u001b[0m     \u001b[38;5;28mprint\u001b[39m(\u001b[43mtracker\u001b[49m\u001b[38;5;241;43m.\u001b[39;49m\u001b[43mresults\u001b[49m\u001b[38;5;241;43m.\u001b[39;49m\u001b[43mmulti_handedness\u001b[49m\u001b[43m[\u001b[49m\u001b[38;5;241;43m0\u001b[39;49m\u001b[43m]\u001b[49m\u001b[38;5;241;43m.\u001b[39;49m\u001b[43mlabel\u001b[49m)\n\u001b[0;32m     25\u001b[0m cv2\u001b[38;5;241m.\u001b[39mimshow(\u001b[38;5;124m\"\u001b[39m\u001b[38;5;124mVideo\u001b[39m\u001b[38;5;124m\"\u001b[39m,image)\n\u001b[0;32m     26\u001b[0m cv2\u001b[38;5;241m.\u001b[39mwaitKey(\u001b[38;5;241m1\u001b[39m)\n",
      "\u001b[1;31mAttributeError\u001b[0m: label"
     ]
    }
   ],
   "source": [
    "if __name__ == \"__main__\":\n",
    "    main()\n",
    "    print(\"Done XD\")"
   ]
  },
  {
   "cell_type": "code",
   "execution_count": null,
   "id": "a6909551",
   "metadata": {},
   "outputs": [],
   "source": []
  }
 ],
 "metadata": {
  "kernelspec": {
   "display_name": "Python 3 (ipykernel)",
   "language": "python",
   "name": "python3"
  },
  "language_info": {
   "codemirror_mode": {
    "name": "ipython",
    "version": 3
   },
   "file_extension": ".py",
   "mimetype": "text/x-python",
   "name": "python",
   "nbconvert_exporter": "python",
   "pygments_lexer": "ipython3",
   "version": "3.9.7"
  }
 },
 "nbformat": 4,
 "nbformat_minor": 5
}
