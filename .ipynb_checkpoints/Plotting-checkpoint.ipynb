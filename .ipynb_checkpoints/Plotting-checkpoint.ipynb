{
 "cells": [
  {
   "cell_type": "markdown",
   "id": "581245da",
   "metadata": {},
   "source": [
    "Author: Kyle Herbruger\n",
    "Date: 10/17/2023\n",
    "\n",
    "Program loads in two .csv files, with the xy information from the OpenCV hand tracker. Then plots them, and converts to a gif."
   ]
  },
  {
   "cell_type": "code",
   "execution_count": 1,
   "id": "b773f612",
   "metadata": {},
   "outputs": [],
   "source": [
    "import numpy as np\n",
    "import matplotlib.pyplot as plt\n",
    "import imageio"
   ]
  },
  {
   "cell_type": "code",
   "execution_count": null,
   "id": "a04e3bea",
   "metadata": {},
   "outputs": [],
   "source": [
    "# dataX = np.loadtxt(\"LeftX.csv\", delimiter=\",\", dtype=int)\n",
    "# dataY = np.loadtxt(\"LeftY.csv\", delimiter=\",\", dtype=int)"
   ]
  },
  {
   "cell_type": "code",
   "execution_count": null,
   "id": "e7424c29",
   "metadata": {},
   "outputs": [],
   "source": [
    "# leng = len(dataX)\n",
    "# print(leng)\n",
    "# clr = np.arange(leng)\n",
    "# clr = clr/clr.max()\n",
    "# dataY = dataY - dataY.max()\n",
    "# nameVar = 'b'\n",
    "\n",
    "# for ia in range(0,leng):\n",
    "#     plt.scatter(dataX[ia,:],dataY[ia,:])\n",
    "#     plt.ylim(dataY[ia].max() + 50, dataY[ia].min() - 50)\n",
    "#     plt.savefig(f'./img/img_{nameVar}{ia}.png',\n",
    "#                transparent=False,\n",
    "#                facecolor='white')\n",
    "#     plt.close()\n",
    "#     if (ia % 10) == 0:\n",
    "#         print((ia/leng)*100, '%')\n",
    "# # plt.scatter(dataX,dataY)\n",
    "# frames = []\n",
    "# for ia in range(leng):\n",
    "#     image = imageio.v2.imread(f'./img/img_{nameVar}{ia}.png')\n",
    "#     frames.append(image)\n",
    "# imageio.mimsave(f'./giffy_{nameVar}.gif',\n",
    "#                frames,\n",
    "#                fps=5)\n",
    "# print(\"DONE XD\")"
   ]
  },
  {
   "cell_type": "code",
   "execution_count": 11,
   "id": "dd0d47a0",
   "metadata": {},
   "outputs": [],
   "source": [
    "class handPlotter():\n",
    "    def __init__(self, dataX, dataY, nameVar = ''):\n",
    "        self.dataX = dataX\n",
    "        self.dataY = dataY\n",
    "        self.nameVar = nameVar\n",
    "        \n",
    "        leng = len(dataX)\n",
    "        dataY = dataY - dataY.max()\n",
    "        \n",
    "        # Generating plots\n",
    "        for ia in range(0,leng):\n",
    "            # Make plot with one frame\n",
    "            plt.scatter(dataX[ia,:],dataY[ia,:])\n",
    "            # Invert Y-Axis. Idk why it's originally saved upside down :/\n",
    "            plt.ylim(dataY[ia].max() + 50, dataY[ia].min() - 50)\n",
    "            plt.savefig(f'./LR_CSV/img/img_{nameVar}{ia}.png',\n",
    "                       transparent=False,\n",
    "                       facecolor='white')\n",
    "            plt.close()\n",
    "            if (ia % 10) == 0:\n",
    "                print('Plotting...', (ia/leng)*100, '%')\n",
    "        print('Plot planned >:)')\n",
    "        frames = []\n",
    "        # Convert to .gif\n",
    "        for ia in range(leng):\n",
    "            image = imageio.v2.imread(f'./LR_CSV/img/img_{nameVar}{ia}.png')\n",
    "            frames.append(image)\n",
    "            if (ia % 10) == 0:\n",
    "                print('Framing...', (ia/leng)*100, '%')\n",
    "                \n",
    "        imageio.mimsave(f'./LR_CSV/giffy_{nameVar}.gif',\n",
    "                       frames,\n",
    "                       fps=5)\n",
    "        print('Scheme complete >:)')"
   ]
  },
  {
   "cell_type": "code",
   "execution_count": 12,
   "id": "a37c8461",
   "metadata": {},
   "outputs": [],
   "source": [
    "def main():\n",
    "    dataX = np.loadtxt(\"LeftX.csv\", delimiter=\",\", dtype=int)\n",
    "    dataY = np.loadtxt(\"LeftY.csv\", delimiter=\",\", dtype=int)\n",
    "    handPlotter(dataX, dataY, 'L_a')\n",
    "    \n",
    "    dataX = np.loadtxt(\"RightX.csv\", delimiter=\",\", dtype=int)\n",
    "    dataY = np.loadtxt(\"RightY.csv\", delimiter=\",\", dtype=int)\n",
    "    handPlotter(dataX, dataY, 'R_a')"
   ]
  },
  {
   "cell_type": "code",
   "execution_count": 14,
   "id": "3f6896cd",
   "metadata": {},
   "outputs": [
    {
     "name": "stdout",
     "output_type": "stream",
     "text": [
      "Plotting... 0.0 %\n",
      "Plotting... 9.615384615384617 %\n",
      "Plotting... 19.230769230769234 %\n",
      "Plotting... 28.846153846153843 %\n",
      "Plotting... 38.46153846153847 %\n",
      "Plotting... 48.07692307692308 %\n",
      "Plotting... 57.692307692307686 %\n",
      "Plotting... 67.3076923076923 %\n",
      "Plotting... 76.92307692307693 %\n",
      "Plotting... 86.53846153846155 %\n",
      "Plotting... 96.15384615384616 %\n",
      "Plot planned >:)\n"
     ]
    },
    {
     "ename": "FileNotFoundError",
     "evalue": "No such file: 'C:\\Users\\User\\Documents\\GitHub\\OpenCV_LG_Proj\\LR_CSV\\img\\img_L_a0.png'",
     "output_type": "error",
     "traceback": [
      "\u001b[1;31m---------------------------------------------------------------------------\u001b[0m",
      "\u001b[1;31mFileNotFoundError\u001b[0m                         Traceback (most recent call last)",
      "Cell \u001b[1;32mIn[14], line 2\u001b[0m\n\u001b[0;32m      1\u001b[0m \u001b[38;5;28;01mif\u001b[39;00m \u001b[38;5;18m__name__\u001b[39m \u001b[38;5;241m==\u001b[39m \u001b[38;5;124m\"\u001b[39m\u001b[38;5;124m__main__\u001b[39m\u001b[38;5;124m\"\u001b[39m:\n\u001b[1;32m----> 2\u001b[0m     \u001b[43mmain\u001b[49m\u001b[43m(\u001b[49m\u001b[43m)\u001b[49m\n\u001b[0;32m      3\u001b[0m     \u001b[38;5;28mprint\u001b[39m(\u001b[38;5;124m\"\u001b[39m\u001b[38;5;124mDone XD\u001b[39m\u001b[38;5;124m\"\u001b[39m)\n",
      "Cell \u001b[1;32mIn[12], line 4\u001b[0m, in \u001b[0;36mmain\u001b[1;34m()\u001b[0m\n\u001b[0;32m      2\u001b[0m dataX \u001b[38;5;241m=\u001b[39m np\u001b[38;5;241m.\u001b[39mloadtxt(\u001b[38;5;124m\"\u001b[39m\u001b[38;5;124mLeftX.csv\u001b[39m\u001b[38;5;124m\"\u001b[39m, delimiter\u001b[38;5;241m=\u001b[39m\u001b[38;5;124m\"\u001b[39m\u001b[38;5;124m,\u001b[39m\u001b[38;5;124m\"\u001b[39m, dtype\u001b[38;5;241m=\u001b[39m\u001b[38;5;28mint\u001b[39m)\n\u001b[0;32m      3\u001b[0m dataY \u001b[38;5;241m=\u001b[39m np\u001b[38;5;241m.\u001b[39mloadtxt(\u001b[38;5;124m\"\u001b[39m\u001b[38;5;124mLeftY.csv\u001b[39m\u001b[38;5;124m\"\u001b[39m, delimiter\u001b[38;5;241m=\u001b[39m\u001b[38;5;124m\"\u001b[39m\u001b[38;5;124m,\u001b[39m\u001b[38;5;124m\"\u001b[39m, dtype\u001b[38;5;241m=\u001b[39m\u001b[38;5;28mint\u001b[39m)\n\u001b[1;32m----> 4\u001b[0m \u001b[43mhandPlotter\u001b[49m\u001b[43m(\u001b[49m\u001b[43mdataX\u001b[49m\u001b[43m,\u001b[49m\u001b[43m \u001b[49m\u001b[43mdataY\u001b[49m\u001b[43m,\u001b[49m\u001b[43m \u001b[49m\u001b[38;5;124;43m'\u001b[39;49m\u001b[38;5;124;43mL_a\u001b[39;49m\u001b[38;5;124;43m'\u001b[39;49m\u001b[43m)\u001b[49m\n\u001b[0;32m      6\u001b[0m dataX \u001b[38;5;241m=\u001b[39m np\u001b[38;5;241m.\u001b[39mloadtxt(\u001b[38;5;124m\"\u001b[39m\u001b[38;5;124mRightX.csv\u001b[39m\u001b[38;5;124m\"\u001b[39m, delimiter\u001b[38;5;241m=\u001b[39m\u001b[38;5;124m\"\u001b[39m\u001b[38;5;124m,\u001b[39m\u001b[38;5;124m\"\u001b[39m, dtype\u001b[38;5;241m=\u001b[39m\u001b[38;5;28mint\u001b[39m)\n\u001b[0;32m      7\u001b[0m dataY \u001b[38;5;241m=\u001b[39m np\u001b[38;5;241m.\u001b[39mloadtxt(\u001b[38;5;124m\"\u001b[39m\u001b[38;5;124mRightY.csv\u001b[39m\u001b[38;5;124m\"\u001b[39m, delimiter\u001b[38;5;241m=\u001b[39m\u001b[38;5;124m\"\u001b[39m\u001b[38;5;124m,\u001b[39m\u001b[38;5;124m\"\u001b[39m, dtype\u001b[38;5;241m=\u001b[39m\u001b[38;5;28mint\u001b[39m)\n",
      "Cell \u001b[1;32mIn[11], line 26\u001b[0m, in \u001b[0;36mhandPlotter.__init__\u001b[1;34m(self, dataX, dataY, nameVar)\u001b[0m\n\u001b[0;32m     24\u001b[0m \u001b[38;5;66;03m# Convert to .gif\u001b[39;00m\n\u001b[0;32m     25\u001b[0m \u001b[38;5;28;01mfor\u001b[39;00m ia \u001b[38;5;129;01min\u001b[39;00m \u001b[38;5;28mrange\u001b[39m(leng):\n\u001b[1;32m---> 26\u001b[0m     image \u001b[38;5;241m=\u001b[39m \u001b[43mimageio\u001b[49m\u001b[38;5;241;43m.\u001b[39;49m\u001b[43mv2\u001b[49m\u001b[38;5;241;43m.\u001b[39;49m\u001b[43mimread\u001b[49m\u001b[43m(\u001b[49m\u001b[38;5;124;43mf\u001b[39;49m\u001b[38;5;124;43m'\u001b[39;49m\u001b[38;5;124;43m./LR_CSV/img/img_\u001b[39;49m\u001b[38;5;132;43;01m{\u001b[39;49;00m\u001b[43mnameVar\u001b[49m\u001b[38;5;132;43;01m}\u001b[39;49;00m\u001b[38;5;132;43;01m{\u001b[39;49;00m\u001b[43mia\u001b[49m\u001b[38;5;132;43;01m}\u001b[39;49;00m\u001b[38;5;124;43m.png\u001b[39;49m\u001b[38;5;124;43m'\u001b[39;49m\u001b[43m)\u001b[49m\n\u001b[0;32m     27\u001b[0m     frames\u001b[38;5;241m.\u001b[39mappend(image)\n\u001b[0;32m     28\u001b[0m     \u001b[38;5;28;01mif\u001b[39;00m (ia \u001b[38;5;241m%\u001b[39m \u001b[38;5;241m10\u001b[39m) \u001b[38;5;241m==\u001b[39m \u001b[38;5;241m0\u001b[39m:\n",
      "File \u001b[1;32m~\\anaconda3\\lib\\site-packages\\imageio\\v2.py:226\u001b[0m, in \u001b[0;36mimread\u001b[1;34m(uri, format, **kwargs)\u001b[0m\n\u001b[0;32m    223\u001b[0m imopen_args \u001b[38;5;241m=\u001b[39m decypher_format_arg(\u001b[38;5;28mformat\u001b[39m)\n\u001b[0;32m    224\u001b[0m imopen_args[\u001b[38;5;124m\"\u001b[39m\u001b[38;5;124mlegacy_mode\u001b[39m\u001b[38;5;124m\"\u001b[39m] \u001b[38;5;241m=\u001b[39m \u001b[38;5;28;01mTrue\u001b[39;00m\n\u001b[1;32m--> 226\u001b[0m \u001b[38;5;28;01mwith\u001b[39;00m imopen(uri, \u001b[38;5;124m\"\u001b[39m\u001b[38;5;124mri\u001b[39m\u001b[38;5;124m\"\u001b[39m, \u001b[38;5;241m*\u001b[39m\u001b[38;5;241m*\u001b[39mimopen_args) \u001b[38;5;28;01mas\u001b[39;00m file:\n\u001b[0;32m    227\u001b[0m     result \u001b[38;5;241m=\u001b[39m file\u001b[38;5;241m.\u001b[39mread(index\u001b[38;5;241m=\u001b[39m\u001b[38;5;241m0\u001b[39m, \u001b[38;5;241m*\u001b[39m\u001b[38;5;241m*\u001b[39mkwargs)\n\u001b[0;32m    229\u001b[0m \u001b[38;5;28;01mreturn\u001b[39;00m result\n",
      "File \u001b[1;32m~\\anaconda3\\lib\\site-packages\\imageio\\core\\imopen.py:113\u001b[0m, in \u001b[0;36mimopen\u001b[1;34m(uri, io_mode, plugin, extension, format_hint, legacy_mode, **kwargs)\u001b[0m\n\u001b[0;32m    111\u001b[0m     request\u001b[38;5;241m.\u001b[39mformat_hint \u001b[38;5;241m=\u001b[39m format_hint\n\u001b[0;32m    112\u001b[0m \u001b[38;5;28;01melse\u001b[39;00m:\n\u001b[1;32m--> 113\u001b[0m     request \u001b[38;5;241m=\u001b[39m \u001b[43mRequest\u001b[49m\u001b[43m(\u001b[49m\u001b[43muri\u001b[49m\u001b[43m,\u001b[49m\u001b[43m \u001b[49m\u001b[43mio_mode\u001b[49m\u001b[43m,\u001b[49m\u001b[43m \u001b[49m\u001b[43mformat_hint\u001b[49m\u001b[38;5;241;43m=\u001b[39;49m\u001b[43mformat_hint\u001b[49m\u001b[43m,\u001b[49m\u001b[43m \u001b[49m\u001b[43mextension\u001b[49m\u001b[38;5;241;43m=\u001b[39;49m\u001b[43mextension\u001b[49m\u001b[43m)\u001b[49m\n\u001b[0;32m    115\u001b[0m source \u001b[38;5;241m=\u001b[39m \u001b[38;5;124m\"\u001b[39m\u001b[38;5;124m<bytes>\u001b[39m\u001b[38;5;124m\"\u001b[39m \u001b[38;5;28;01mif\u001b[39;00m \u001b[38;5;28misinstance\u001b[39m(uri, \u001b[38;5;28mbytes\u001b[39m) \u001b[38;5;28;01melse\u001b[39;00m uri\n\u001b[0;32m    117\u001b[0m \u001b[38;5;66;03m# fast-path based on plugin\u001b[39;00m\n\u001b[0;32m    118\u001b[0m \u001b[38;5;66;03m# (except in legacy mode)\u001b[39;00m\n",
      "File \u001b[1;32m~\\anaconda3\\lib\\site-packages\\imageio\\core\\request.py:247\u001b[0m, in \u001b[0;36mRequest.__init__\u001b[1;34m(self, uri, mode, extension, format_hint, **kwargs)\u001b[0m\n\u001b[0;32m    244\u001b[0m     \u001b[38;5;28;01mraise\u001b[39;00m \u001b[38;5;167;01mValueError\u001b[39;00m(\u001b[38;5;124mf\u001b[39m\u001b[38;5;124m\"\u001b[39m\u001b[38;5;124mInvalid Request.Mode: \u001b[39m\u001b[38;5;132;01m{\u001b[39;00mmode\u001b[38;5;132;01m}\u001b[39;00m\u001b[38;5;124m\"\u001b[39m)\n\u001b[0;32m    246\u001b[0m \u001b[38;5;66;03m# Parse what was given\u001b[39;00m\n\u001b[1;32m--> 247\u001b[0m \u001b[38;5;28;43mself\u001b[39;49m\u001b[38;5;241;43m.\u001b[39;49m\u001b[43m_parse_uri\u001b[49m\u001b[43m(\u001b[49m\u001b[43muri\u001b[49m\u001b[43m)\u001b[49m\n\u001b[0;32m    249\u001b[0m \u001b[38;5;66;03m# Set extension\u001b[39;00m\n\u001b[0;32m    250\u001b[0m \u001b[38;5;28;01mif\u001b[39;00m extension \u001b[38;5;129;01mis\u001b[39;00m \u001b[38;5;129;01mnot\u001b[39;00m \u001b[38;5;28;01mNone\u001b[39;00m:\n",
      "File \u001b[1;32m~\\anaconda3\\lib\\site-packages\\imageio\\core\\request.py:407\u001b[0m, in \u001b[0;36mRequest._parse_uri\u001b[1;34m(self, uri)\u001b[0m\n\u001b[0;32m    404\u001b[0m \u001b[38;5;28;01mif\u001b[39;00m is_read_request:\n\u001b[0;32m    405\u001b[0m     \u001b[38;5;66;03m# Reading: check that the file exists (but is allowed a dir)\u001b[39;00m\n\u001b[0;32m    406\u001b[0m     \u001b[38;5;28;01mif\u001b[39;00m \u001b[38;5;129;01mnot\u001b[39;00m os\u001b[38;5;241m.\u001b[39mpath\u001b[38;5;241m.\u001b[39mexists(fn):\n\u001b[1;32m--> 407\u001b[0m         \u001b[38;5;28;01mraise\u001b[39;00m \u001b[38;5;167;01mFileNotFoundError\u001b[39;00m(\u001b[38;5;124m\"\u001b[39m\u001b[38;5;124mNo such file: \u001b[39m\u001b[38;5;124m'\u001b[39m\u001b[38;5;132;01m%s\u001b[39;00m\u001b[38;5;124m'\u001b[39m\u001b[38;5;124m\"\u001b[39m \u001b[38;5;241m%\u001b[39m fn)\n\u001b[0;32m    408\u001b[0m \u001b[38;5;28;01melse\u001b[39;00m:\n\u001b[0;32m    409\u001b[0m     \u001b[38;5;66;03m# Writing: check that the directory to write to does exist\u001b[39;00m\n\u001b[0;32m    410\u001b[0m     dn \u001b[38;5;241m=\u001b[39m os\u001b[38;5;241m.\u001b[39mpath\u001b[38;5;241m.\u001b[39mdirname(fn)\n",
      "\u001b[1;31mFileNotFoundError\u001b[0m: No such file: 'C:\\Users\\User\\Documents\\GitHub\\OpenCV_LG_Proj\\LR_CSV\\img\\img_L_a0.png'"
     ]
    }
   ],
   "source": [
    "if __name__ == \"__main__\":\n",
    "    main()\n",
    "    print(\"Done XD\")"
   ]
  },
  {
   "cell_type": "code",
   "execution_count": null,
   "id": "ad407612",
   "metadata": {},
   "outputs": [],
   "source": []
  }
 ],
 "metadata": {
  "kernelspec": {
   "display_name": "Python 3 (ipykernel)",
   "language": "python",
   "name": "python3"
  },
  "language_info": {
   "codemirror_mode": {
    "name": "ipython",
    "version": 3
   },
   "file_extension": ".py",
   "mimetype": "text/x-python",
   "name": "python",
   "nbconvert_exporter": "python",
   "pygments_lexer": "ipython3",
   "version": "3.9.7"
  }
 },
 "nbformat": 4,
 "nbformat_minor": 5
}
