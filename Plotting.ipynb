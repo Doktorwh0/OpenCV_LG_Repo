{
 "cells": [
  {
   "cell_type": "markdown",
   "id": "9d20d9dc",
   "metadata": {},
   "source": [
    "Author: Kyle Herbruger\n",
    "Date: 10/17/2023\n",
    "\n",
    "Program loads in two .csv files, with the xy information from the OpenCV hand tracker. Then plots them, and converts to a gif."
   ]
  },
  {
   "cell_type": "code",
   "execution_count": 1,
   "id": "b773f612",
   "metadata": {},
   "outputs": [],
   "source": [
    "import numpy as np\n",
    "import matplotlib.pyplot as plt\n",
    "import imageio"
   ]
  },
  {
   "cell_type": "code",
   "execution_count": 5,
   "id": "f0e2bd11",
   "metadata": {},
   "outputs": [],
   "source": [
    "class handPlotter():\n",
    "    def __init__(self, dataX, dataY, nameVar = ''):\n",
    "        self.dataX = dataX\n",
    "        self.dataY = dataY\n",
    "        self.nameVar = nameVar\n",
    "        \n",
    "        leng = len(dataX)\n",
    "        dataY = dataY - dataY.max()\n",
    "        \n",
    "        # Generating plots\n",
    "        for ia in range(0,leng):\n",
    "            # Make plot with one frame\n",
    "            plt.scatter(dataX[ia,:],dataY[ia,:])\n",
    "            # Invert Y-Axis. Idk why it's originally saved upside down :/\n",
    "            plt.ylim(dataY[ia].max() + 50, dataY[ia].min() - 50)\n",
    "            plt.savefig(f'./img/img_{nameVar}{ia}.png',\n",
    "                       transparent=False,\n",
    "                       facecolor='white')\n",
    "            plt.close()\n",
    "            if (ia % 10) == 0:\n",
    "                print('Plotting...', (ia/leng)*100, '%')\n",
    "        print('Plot planned >:)')\n",
    "        \n",
    "        frames = []\n",
    "        # Convert to .gif\n",
    "        for ia in range(leng):\n",
    "            image = imageio.v2.imread(f'./img/img_{nameVar}{ia}.png')\n",
    "            frames.append(image)\n",
    "            if (ia % 10) == 0:\n",
    "                print('Framing...', (ia/leng)*100, '%')\n",
    "                \n",
    "        imageio.mimsave(f'./LR_CSV/giffy_{nameVar}.gif',\n",
    "                       frames,\n",
    "                       fps=5)\n",
    "        print('Scheme complete >:)')"
   ]
  },
  {
   "cell_type": "code",
   "execution_count": 6,
   "id": "85c7cf56",
   "metadata": {},
   "outputs": [],
   "source": [
    "def main():\n",
    "    dataX = np.loadtxt(\"./LR_CSV/LeftX.csv\", delimiter=\",\", dtype=int)\n",
    "    dataY = np.loadtxt(\"./LR_CSV/LeftY.csv\", delimiter=\",\", dtype=int)\n",
    "    handPlotter(dataX, dataY, 'L_a')\n",
    "    \n",
    "    dataX = np.loadtxt(\"./LR_CSV/RightX.csv\", delimiter=\",\", dtype=int)\n",
    "    dataY = np.loadtxt(\"./LR_CSV/RightY.csv\", delimiter=\",\", dtype=int)\n",
    "    handPlotter(dataX, dataY, 'R_a')"
   ]
  },
  {
   "cell_type": "code",
   "execution_count": 7,
   "id": "3f6896cd",
   "metadata": {},
   "outputs": [
    {
     "name": "stdout",
     "output_type": "stream",
     "text": [
      "Plotting... 0.0 %\n",
      "Plotting... 20.0 %\n",
      "Plotting... 40.0 %\n",
      "Plotting... 60.0 %\n",
      "Plotting... 80.0 %\n",
      "Plot planned >:)\n",
      "Framing... 0.0 %\n",
      "Framing... 20.0 %\n",
      "Framing... 40.0 %\n",
      "Framing... 60.0 %\n",
      "Framing... 80.0 %\n",
      "Scheme complete >:)\n",
      "Plotting... 0.0 %\n",
      "Plotting... 20.0 %\n",
      "Plotting... 40.0 %\n",
      "Plotting... 60.0 %\n",
      "Plotting... 80.0 %\n",
      "Plot planned >:)\n",
      "Framing... 0.0 %\n",
      "Framing... 20.0 %\n",
      "Framing... 40.0 %\n",
      "Framing... 60.0 %\n",
      "Framing... 80.0 %\n",
      "Scheme complete >:)\n",
      "Done XD\n"
     ]
    }
   ],
   "source": [
    "if __name__ == \"__main__\":\n",
    "    main()\n",
    "    print(\"Done XD\")"
   ]
  },
  {
   "cell_type": "code",
   "execution_count": null,
   "id": "6970772c",
   "metadata": {},
   "outputs": [],
   "source": []
  }
 ],
 "metadata": {
  "kernelspec": {
   "display_name": "Python 3 (ipykernel)",
   "language": "python",
   "name": "python3"
  },
  "language_info": {
   "codemirror_mode": {
    "name": "ipython",
    "version": 3
   },
   "file_extension": ".py",
   "mimetype": "text/x-python",
   "name": "python",
   "nbconvert_exporter": "python",
   "pygments_lexer": "ipython3",
   "version": "3.9.7"
  }
 },
 "nbformat": 4,
 "nbformat_minor": 5
}
