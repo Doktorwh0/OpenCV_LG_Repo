{
 "cells": [
  {
   "cell_type": "markdown",
   "id": "67bff58a",
   "metadata": {},
   "source": [
    "Author: Kyle Herbruger\n",
    "Date: 10/17/2023\n",
    "\n",
    "Program loads in two .csv files, with the xy information from the OpenCV hand tracker. Then plots them, and converts to a gif."
   ]
  },
  {
   "cell_type": "code",
   "execution_count": 2,
   "id": "b773f612",
   "metadata": {},
   "outputs": [],
   "source": [
    "import numpy as np\n",
    "import matplotlib.pyplot as plt\n",
    "import imageio"
   ]
  },
  {
   "cell_type": "code",
   "execution_count": 213,
   "id": "506e61f6",
   "metadata": {},
   "outputs": [],
   "source": [
    "class handPlotter():\n",
    "    def __init__(self, dataX, dataY, dataZ, nameVar = ''):\n",
    "        self.dataX = dataX\n",
    "        self.dataY = dataY\n",
    "        self.dataZ = dataZ\n",
    "        self.nameVar = nameVar\n",
    "        \n",
    "        leng = len(dataX)\n",
    "        #dataY = dataY - dataY.max()\n",
    "        dataZ = dataZ * -1\n",
    "        \n",
    "#         clr = dataZ\n",
    "#         clr = clr/dataZ.max()\n",
    "#         for ia in clr:\n",
    "#             ia = [ia, ia, ia]\n",
    "        \n",
    "        badFrameCount = 0.0\n",
    "        zMax = max(np.max(dataZ), abs(np.min(dataZ)))\n",
    "        frames = []\n",
    "        # Generating plots\n",
    "        for ia in range(leng):\n",
    "            # Only save frame if there is data\n",
    "            # Make plot with one frame\n",
    "            clrZ = np.array(dataZ[ia])/zMax\n",
    "            plt.plot(dataX[ia,0:5],dataY[ia,0:5], 'ro-')\n",
    "            plt.plot(dataX[ia,5:9],dataY[ia,5:9], 'ro-')\n",
    "            plt.plot(dataX[ia,9:13],dataY[ia,9:13], 'ro-')\n",
    "            plt.plot(dataX[ia,13:17],dataY[ia,13:17], 'ro-')\n",
    "            plt.plot(dataX[ia,17:21],dataY[ia,17:21], 'ro-')\n",
    "            plt.plot([dataX[ia,0],dataX[ia,5],dataX[ia,9],dataX[ia,13],dataX[ia,17],dataX[ia,0]],\n",
    "                    [dataY[ia,0],dataY[ia,5],dataY[ia,9],dataY[ia,13],dataY[ia,17],dataY[ia,0]], 'ro-')\n",
    "            plt.scatter(dataX[ia,0:21],dataY[ia,0:21], s=clrZ[0:21]*30+25, c=clrZ[0:21],cmap='Oranges')\n",
    "            plt.plot(dataX[ia,21:26],dataY[ia,21:26], 'bo-')\n",
    "            plt.plot(dataX[ia,26:30],dataY[ia,26:30], 'bo-')\n",
    "            plt.plot(dataX[ia,30:34],dataY[ia,30:34], 'bo-')\n",
    "            plt.plot(dataX[ia,34:38],dataY[ia,34:38], 'bo-')\n",
    "            plt.plot(dataX[ia,38:42],dataY[ia,38:42], 'bo-')\n",
    "            plt.plot([dataX[ia,21],dataX[ia,26],dataX[ia,30],dataX[ia,34],dataX[ia,38],dataX[ia,21]],\n",
    "                    [dataY[ia,21],dataY[ia,26],dataY[ia,30],dataY[ia,34],dataY[ia,38],dataY[ia,21]], 'bo-')\n",
    "            plt.scatter(dataX[ia,22:42],dataY[ia,22:42], s=clrZ[22:42]*30+25, c=clrZ[22:42],cmap='Purples')\n",
    "            # Invert Y-Axis. Idk why it's originally saved upside down :/\n",
    "            plt.ylim(dataY[ia].max() + 100, dataY[ia].min() - 100)\n",
    "            plt.xlim(0, dataX[ia].max() + 100)\n",
    "            plt.xticks([])\n",
    "            plt.yticks([])\n",
    "            plt.savefig(f'./LR_CSV/img/img_{nameVar}{ia}.png',transparent=False,facecolor='white')\n",
    "            plt.close()\n",
    "            imageb = imageio.v2.imread(f'./LR_CSV/img/img_{nameVar}{ia}.png')\n",
    "            frames.append(imageb)\n",
    "            \n",
    "            if (ia % 50) == 0:\n",
    "                print('Processing...', (ia/leng)*100, '%')\n",
    "\n",
    "        print('Schemeing...')\n",
    "        imageio.mimsave(f'./LR_CSV/giffy2_{nameVar}.gif',\n",
    "                       frames,\n",
    "                       fps=20)\n",
    "        print('Scheme complete >:)')\n",
    "        print('Bad Frame Ratio: ', (badFrameCount / leng)*100)"
   ]
  },
  {
   "cell_type": "code",
   "execution_count": 214,
   "id": "a141c598",
   "metadata": {},
   "outputs": [],
   "source": [
    "def main():\n",
    "    fileLoc = './LR_CSV/sng'\n",
    "    booster = np.ones(21)\n",
    "    booster[4] = 4\n",
    "    booster[8] = 4\n",
    "    booster[12] = 4\n",
    "    booster[16] = 4\n",
    "    booster[20] = 4\n",
    "    dataX1 = np.loadtxt(f'{fileLoc}RightX.csv', delimiter=\",\", dtype=int)\n",
    "    dataY1 = np.loadtxt(f'{fileLoc}RightY.csv', delimiter=\",\", dtype=int)\n",
    "    dataZ1 = np.loadtxt(f'{fileLoc}RightZ.csv', delimiter=\",\", dtype=int)\n",
    "    for ia in range(len(dataZ1)):\n",
    "        dataZ1[ia] = dataZ1[ia] * booster\n",
    "#     handPlotter(dataX, dataY, dataZ, 'R_a')\n",
    "\n",
    "    dataX = np.ones((len(dataX1), 42))\n",
    "    dataY = np.ones((len(dataX1), 42))\n",
    "    dataZ = np.ones((len(dataX1), 42))\n",
    "    \n",
    "    dataX2 = ((np.loadtxt(f'{fileLoc}LeftX.csv', delimiter=\",\", dtype=int)))\n",
    "    dataY2 = ((np.loadtxt(f'{fileLoc}LeftY.csv', delimiter=\",\", dtype=int)))\n",
    "    dataZ2 = ((np.loadtxt(f'{fileLoc}LeftZ.csv', delimiter=\",\", dtype=int)))\n",
    "    for ia in range(len(dataZ1)):\n",
    "        dataZ2[ia] = dataZ2[ia] * booster\n",
    "    \n",
    "    for ia in range(len(dataX)):\n",
    "        dataX[ia] = np.concatenate((dataX2[ia],dataX1[ia]))\n",
    "        dataY[ia] = np.concatenate((dataY2[ia],dataY1[ia]))\n",
    "        dataZ[ia] = np.concatenate((dataZ2[ia],dataZ1[ia]))\n",
    "    handPlotter(dataX, dataY, dataZ, 'sng')"
   ]
  },
  {
   "cell_type": "code",
   "execution_count": 215,
   "id": "3f6896cd",
   "metadata": {
    "scrolled": true
   },
   "outputs": [
    {
     "name": "stdout",
     "output_type": "stream",
     "text": [
      "Processing... 0.0 %\n",
      "Processing... 6.25 %\n",
      "Processing... 12.5 %\n",
      "Processing... 18.75 %\n",
      "Processing... 25.0 %\n",
      "Processing... 31.25 %\n",
      "Processing... 37.5 %\n",
      "Processing... 43.75 %\n",
      "Processing... 50.0 %\n",
      "Processing... 56.25 %\n",
      "Processing... 62.5 %\n",
      "Processing... 68.75 %\n",
      "Processing... 75.0 %\n",
      "Processing... 81.25 %\n",
      "Processing... 87.5 %\n",
      "Processing... 93.75 %\n",
      "Schemeing...\n",
      "Scheme complete >:)\n",
      "Bad Frame Ratio:  0.0\n",
      "Done XD\n"
     ]
    }
   ],
   "source": [
    "if __name__ == \"__main__\":\n",
    "    main()\n",
    "    print(\"Done XD\")"
   ]
  },
  {
   "cell_type": "code",
   "execution_count": 131,
   "id": "0cbee78c",
   "metadata": {},
   "outputs": [],
   "source": [
    "def dataPatch(data):\n",
    "    for ia in range(1,len(data)):\n",
    "        if (np.sum(data[ia]) == 0) and (np.sum(data[ia - 1]) != 0) and (np.sum(data[ia + 1]) != 0):\n",
    "            print('patched hole')\n",
    "            data[ia] = np.mean(data[ia-1] + data[ia+1])\n",
    "    return data"
   ]
  },
  {
   "cell_type": "code",
   "execution_count": null,
   "id": "4d084873",
   "metadata": {},
   "outputs": [],
   "source": []
  }
 ],
 "metadata": {
  "kernelspec": {
   "display_name": "Python 3 (ipykernel)",
   "language": "python",
   "name": "python3"
  },
  "language_info": {
   "codemirror_mode": {
    "name": "ipython",
    "version": 3
   },
   "file_extension": ".py",
   "mimetype": "text/x-python",
   "name": "python",
   "nbconvert_exporter": "python",
   "pygments_lexer": "ipython3",
   "version": "3.9.7"
  }
 },
 "nbformat": 4,
 "nbformat_minor": 5
}
