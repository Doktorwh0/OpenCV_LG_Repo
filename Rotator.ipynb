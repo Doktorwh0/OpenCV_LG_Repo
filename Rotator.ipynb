{
 "cells": [
  {
   "cell_type": "code",
   "execution_count": 14,
   "id": "6af3e913",
   "metadata": {},
   "outputs": [],
   "source": [
    "import numpy as np\n",
    "import matplotlib.pyplot as plt\n",
    "import imageio\n",
    "import time\n",
    "import math\n",
    "\n",
    "from scipy.io.wavfile import read"
   ]
  },
  {
   "cell_type": "code",
   "execution_count": 20,
   "id": "db94e429",
   "metadata": {},
   "outputs": [],
   "source": [
    "def xyRotate45(dataX, dataY, pos = False):\n",
    "    x_rot = np.ones(len(dataX[0]))\n",
    "    y_rot = x_rot\n",
    "    direction = -1\n",
    "    if pos:\n",
    "        direction = 1\n",
    "    for ia in range(len(dataX)):\n",
    "        x_rot = dataX[ia] * (np.ones(len(dataX[0]))*math.cos(direction*math.pi/4)) + dataY[ia] * (np.ones(len(dataX[0]))*(-1)*math.sin(direction*math.pi/4))\n",
    "        y_rot = dataX[ia] * (np.ones(len(dataX[0]))*math.sin(direction*math.pi/4)) + dataY[ia] * (np.ones(len(dataX[0]))*math.cos(direction*math.pi/4))\n",
    "        dataX[ia] = x_rot\n",
    "        dataY[ia] = y_rot\n",
    "        "
   ]
  },
  {
   "cell_type": "code",
   "execution_count": 21,
   "id": "db516c84",
   "metadata": {},
   "outputs": [],
   "source": [
    "def main():\n",
    "    song = 'wu2s'\n",
    "    side = '_left'\n",
    "    fileLoc = f'./TriCam/{song.upper()}/{song}_combo{side}'\n",
    "\n",
    "    dataX = np.loadtxt(f'{fileLoc}_X.csv', delimiter=\",\", dtype=int)\n",
    "    dataY = np.loadtxt(f'{fileLoc}_Y.csv', delimiter=\",\", dtype=int)\n",
    "    dataZ = np.loadtxt(f'{fileLoc}_Z.csv', delimiter=\",\", dtype=int)\n",
    "    \n",
    "    xyRotate45(dataX,dataZ)\n",
    "    \n",
    "    np.savetxt(f'./{fileLoc}_rot{side}_X.csv', dataX, delimiter=',', fmt='%d')\n",
    "    np.savetxt(f'./{fileLoc}_rot{side}_Y.csv', dataY, delimiter=',', fmt='%d')\n",
    "    np.savetxt(f'./{fileLoc}_rot{side}_Z.csv', dataZ, delimiter=',', fmt='%d')\n",
    "    \n"
   ]
  },
  {
   "cell_type": "code",
   "execution_count": 22,
   "id": "bc4f3cbc",
   "metadata": {},
   "outputs": [
    {
     "name": "stdout",
     "output_type": "stream",
     "text": [
      "Done XD\n"
     ]
    }
   ],
   "source": [
    "if __name__ == \"__main__\":\n",
    "    main()\n",
    "    print(\"Done XD\")"
   ]
  },
  {
   "cell_type": "code",
   "execution_count": null,
   "id": "214430ce",
   "metadata": {},
   "outputs": [],
   "source": []
  }
 ],
 "metadata": {
  "kernelspec": {
   "display_name": "Python 3 (ipykernel)",
   "language": "python",
   "name": "python3"
  },
  "language_info": {
   "codemirror_mode": {
    "name": "ipython",
    "version": 3
   },
   "file_extension": ".py",
   "mimetype": "text/x-python",
   "name": "python",
   "nbconvert_exporter": "python",
   "pygments_lexer": "ipython3",
   "version": "3.9.7"
  }
 },
 "nbformat": 4,
 "nbformat_minor": 5
}
